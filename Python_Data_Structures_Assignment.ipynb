{
  "nbformat": 4,
  "nbformat_minor": 0,
  "metadata": {
    "colab": {
      "provenance": []
    },
    "kernelspec": {
      "name": "python3",
      "display_name": "Python 3"
    },
    "language_info": {
      "name": "python"
    }
  },
  "cells": [
    {
      "cell_type": "markdown",
      "source": [
        "#Theortical Questions\n",
        "\n",
        "1. What are data structures, and why are they important?\n",
        "\n",
        "  - Data structures are ways of organizing and storing data efficiently so that they can be accessed and manipulated in various ways. In programming and computer science, the term \"data structure\" refers to a collection of data values and the relationships between them, as well as the operations that can be performed on them.\n",
        "  \n",
        "    Data structures are important in various ways-\n",
        "    \n",
        "      - Efficiency: The choice of data structure directly impacts the performance of your program.\n",
        "\n",
        "      -Optimizing Resources: Proper use of data structures ensures that the program uses memory and CPU resources efficiently.\n",
        "\n",
        "      -Simplifying Problem Solving: Many problems can be simplified by choosing the right data structure.\n",
        "\n",
        "      -Scalability: The correct data structure can make your program scalable. For instance, when dealing with large datasets.\n",
        "\n",
        "2. Explain the difference between mutable and immutable data types with examples.\n",
        "\n",
        "  i) Mutable Data Types:A mutable data type is one where the data or object can be modified after it is created. This means you can change, add, or remove elements of the data structure in place. Lists, Dictionaries, sets all are its examples.\n"
      ],
      "metadata": {
        "id": "mQkhppDaiBtD"
      }
    },
    {
      "cell_type": "code",
      "source": [
        "#Example of Mutable Data Type: Sets\n",
        "my_set = {1, 2, 3}\n",
        "my_set.add(4)    # Add an element\n",
        "my_set.remove(2) # Remove an element\n",
        "print(my_set)"
      ],
      "metadata": {
        "colab": {
          "base_uri": "https://localhost:8080/"
        },
        "id": "yXhh5hyZmLbQ",
        "outputId": "17d77975-80d7-4e55-a095-e15dc6a9ca08"
      },
      "execution_count": null,
      "outputs": [
        {
          "output_type": "stream",
          "name": "stdout",
          "text": [
            "{1, 3, 4}\n"
          ]
        }
      ]
    },
    {
      "cell_type": "markdown",
      "source": [
        "ii) Immutable Data Types:An immutable data type is one where the data or object cannot be modified after it is created. If you attempt to change it, a new object is created instead. Strings, tuples are some examples of it"
      ],
      "metadata": {
        "id": "9iE-sx1Cmylm"
      }
    },
    {
      "cell_type": "code",
      "source": [
        "#Example of Immutable Data Type: Strings\n",
        "string1 = \"Hello\"\n",
        "string1[3] = 'L'# This will raise an error!\n",
        "print(string1)"
      ],
      "metadata": {
        "id": "dXnpysJAnG52"
      },
      "execution_count": null,
      "outputs": []
    },
    {
      "cell_type": "markdown",
      "source": [
        "3.  What are the main differences between lists and tuples in Python?\n",
        "\n",
        "- In Python, lists and tuples are both used to store collections of items, but they differ in several key ways. Here's a breakdown of the main differences between them:\n",
        "\n",
        "  i) Mutability:\n",
        "\n",
        "    Lists: Mutable, meaning that you can modify the contents of a list after it is created (add, remove, or change elements).\n",
        "\n",
        "    Tuples: Immutable, meaning that once a tuple is created, you cannot change, add, or remove elements from it. Any modification requires creating a new tuple.\n",
        "\n",
        "  ii) Syntax:\n",
        "\n",
        "    Lists: Defined using square brackets [ ].\n",
        "\n",
        "    Tuples: Defined using parentheses ( ).\n",
        "    \n",
        "    iii) Methods:\n",
        "\n",
        "    Lists: Lists have more built-in methods that allow modification (e.g., append(), extend(), remove(), pop(), sort(), reverse()).\n",
        "\n",
        "    Tuples: Tuples have fewer methods, as they are immutable. Common methods include count() and index(), but you can't modify the tuple once created.\n",
        "\n",
        "\n"
      ],
      "metadata": {
        "id": "0gsNGnMJqhbI"
      }
    },
    {
      "cell_type": "markdown",
      "source": [
        "4.  Describe how dictionaries store data.\n",
        "\n",
        "- In Python, dictionaries are an unordered collection of data that store key-value pairs. A key is used to uniquely identify an item, while the value is the data associated with that key. The primary purpose of a dictionary is to allow fast lookups, insertions, and deletions of data based on keys.\n",
        "\n",
        " A dictionary stores data in the form of key-value pairs:\n",
        "\n",
        "    Key: A unique identifier used to access a value.\n",
        "\n",
        "    Value: The data or object associated with the key.\n",
        "\n",
        "  For example:\n",
        "  \n",
        "  my_dict = {\"name\": \"Alice\", \"age\": 25, \"city\": \"New York\"}\n",
        "\n",
        "\n",
        "\n"
      ],
      "metadata": {
        "id": "8utxs_M5s2FU"
      }
    },
    {
      "cell_type": "markdown",
      "source": [
        "5.  Why might you use a set instead of a list in Python?\n",
        "\n",
        "- Uniqueness of elements: If you need to ensure that all elements are unique, sets are perfect because they automatically eliminate duplicates.\n",
        "\n",
        "\n",
        "- Fast membership testing: If you're frequently checking if an element is present in your collection, sets offer O(1) average-time complexity, whereas lists require O(n).\n",
        "\n",
        "\n",
        "- Set operations: If you're performing operations like union, intersection, or difference, sets are built for this and are much more efficient than using lists with loops.\n",
        "\n",
        "\n",
        "- Unordered collections: If the order of elements doesn't matter, sets can be more efficient because they don't maintain order, and they automatically handle uniqueness."
      ],
      "metadata": {
        "id": "Tq89s-Nzuphc"
      }
    },
    {
      "cell_type": "markdown",
      "source": [],
      "metadata": {
        "id": "OpaQe8AAmyew"
      }
    },
    {
      "cell_type": "markdown",
      "source": [
        "6.  What is a string in Python, and how is it different from a list?\n",
        "\n",
        "- A string in Python is a sequence of characters, typically used to represent text data. It’s one of the most commonly used data types for handling textual information. Strings are immutable, meaning once they are created, their content cannot be changed.\n",
        "\n",
        "    i) String: Strings are immutable, meaning that once a string is created, you cannot change its contents.\n",
        "    List: Lists are mutable, meaning that you can change, add, or remove elements from a list after it is created.\n",
        "\n",
        "  ii) If you're adding items to a collection but want to ensure that each item only appears once, sets are the better choice. With lists, you'd need to manually check if an item already exists before adding it."
      ],
      "metadata": {
        "id": "C76rwxQ3wjF5"
      }
    },
    {
      "cell_type": "markdown",
      "source": [
        "7.  How do tuples ensure data integrity in Python?\n",
        "\n",
        "- Tuples in Python help ensure data integrity primarily through their immutability. This characteristic means that once a tuple is created, its contents cannot be altered—neither the order of elements nor the elements themselves can be changed. This makes tuples a great choice when you want to safeguard the integrity of your data, ensuring that it remains constant throughout the program.\n",
        "\n"
      ],
      "metadata": {
        "id": "wfvDmpYdyPnJ"
      }
    },
    {
      "cell_type": "markdown",
      "source": [
        "8.  What is a hash table, and how does it relate to dictionaries in Python?\n",
        "\n",
        "- A hash table (also known as a hash map) is a data structure that allows you to store key-value pairs in such a way that you can quickly retrieve the value associated with a given key. The underlying idea is to use a hash function to convert the key into an index in an array (called a bucket), where the value is stored. The key-value pairs are organized using this hash function, making lookups very efficient—ideally, with an average time complexity of O(1).\n",
        "\n",
        "    - Hashing in Dictionaries: When you insert a key-value pair into a Python dictionary, Python computes the hash value for the key and stores the pair in the corresponding location in the hash table. When you perform a lookup or check for the existence of a key, Python hashes the key and retrieves the value in constant time.\n",
        "\n",
        "\n",
        "\n",
        "\n",
        "\n"
      ],
      "metadata": {
        "id": "ceaybtXOyyLW"
      }
    },
    {
      "cell_type": "code",
      "source": [
        "#Example:\n",
        "\n",
        "my_dict = {\"name\": \"Alice\", \"age\": 25}\n",
        "\n",
        "# Python uses a hash table to quickly find the value associated with \"name\"\n",
        "print(my_dict[\"name\"])"
      ],
      "metadata": {
        "colab": {
          "base_uri": "https://localhost:8080/"
        },
        "id": "RCgEFmp1ztA0",
        "outputId": "4b921cc5-c525-4956-8338-cf46e4f747bd"
      },
      "execution_count": null,
      "outputs": [
        {
          "output_type": "stream",
          "name": "stdout",
          "text": [
            "Alice\n"
          ]
        }
      ]
    },
    {
      "cell_type": "markdown",
      "source": [
        "9.  Can lists contain different data types in Python?\n",
        "\n",
        "- Yes, lists in Python can contain different data types. One of the key features of Python lists is that they are heterogeneous, meaning you can store elements of various types (integers, strings, floats, booleans, other lists, and even custom objects) in the same list.\n"
      ],
      "metadata": {
        "id": "8TLFZQovz4mt"
      }
    },
    {
      "cell_type": "code",
      "source": [
        "#Examples for different data types in a List\n",
        "my_list= [4, 7.8, True, \"Avi\", 5+6j]\n",
        "type(my_list[3])# In this way we can see all data types are there, 4=int, 7.8= float, True= boolean, 5+6j= complex."
      ],
      "metadata": {
        "colab": {
          "base_uri": "https://localhost:8080/"
        },
        "id": "nwE6cSC-1BKe",
        "outputId": "d6b353d1-03a7-4ccd-eff0-be9f1159850b"
      },
      "execution_count": null,
      "outputs": [
        {
          "output_type": "execute_result",
          "data": {
            "text/plain": [
              "str"
            ]
          },
          "metadata": {},
          "execution_count": 9
        }
      ]
    },
    {
      "cell_type": "markdown",
      "source": [
        "10.  Explain why strings are immutable in Python.\n",
        "\n",
        "- String immutability in Python is a deliberate design choice that brings multiple advantages, including:\n",
        "\n",
        "    - Performance optimization through memory sharing and caching.\n",
        "\n",
        "    -Thread safety by ensuring strings can’t be modified while accessed by multiple threads.\n",
        "\n",
        "    - Predictable behavior and simpler debugging.\n",
        "\n",
        "    - The ability to use strings as dictionary keys or set elements.\n",
        "    -Consistency in string methods, which return new strings rather than modifying the original."
      ],
      "metadata": {
        "id": "Frl1ksAE1uez"
      }
    },
    {
      "cell_type": "markdown",
      "source": [
        "11. What advantages do dictionaries offer over lists for certain tasks?\n",
        "\n",
        "- When you need fast lookups based on a key rather than an index.\n",
        "\n",
        "- When you need to associate keys with values (e.g., mapping user IDs to usernames).\n",
        "\n",
        "- When handling missing data or needing default values for keys.\n",
        "\n",
        "- When you need to enforce unique keys or ensure fast membership tests.\n",
        "\n",
        "- When you want to use key-value pairs to model more complex relationships between data."
      ],
      "metadata": {
        "id": "VcWTc5yk3B4S"
      }
    },
    {
      "cell_type": "markdown",
      "source": [],
      "metadata": {
        "id": "YgOaz7Zy3_XC"
      }
    },
    {
      "cell_type": "markdown",
      "source": [
        "12. Describe a scenario where using a tuple would be preferable over a list.\n",
        "\n",
        "-  In Python, tuples are immutable sequences, making them ideal for representing fixed collections of items that should not change throughout the program.\n",
        "\n",
        "    Fixed Data Collections: When you have a set of values that should remain constant, such as geographical coordinates (latitude, longitude) or RGB color values. Using a tuple signals that the data is intended to be unchangeable, enhancing code clarity and safety.\n",
        "     "
      ],
      "metadata": {
        "id": "k4wpuh4m3LNK"
      }
    },
    {
      "cell_type": "markdown",
      "source": [
        "13. How do sets handle duplicate values in Python?\n",
        "\n",
        "\n",
        "- Sets in Python handle duplicate values by automatically removing them, ensuring that each element in a set is unique. This behavior makes sets ideal for scenarios where uniqueness is required.\n"
      ],
      "metadata": {
        "id": "qQSBwv6Z5fJA"
      }
    },
    {
      "cell_type": "code",
      "source": [
        "#Example- Creating a set with duplicate values\n",
        "set1 = {1, 2, 3, 2, 1}\n",
        "\n",
        "print(set1) # The set automatically removes duplicates"
      ],
      "metadata": {
        "id": "FLH7-srxwh0t",
        "colab": {
          "base_uri": "https://localhost:8080/"
        },
        "outputId": "0306cec7-ae83-4373-bb10-3005f78bd898"
      },
      "execution_count": null,
      "outputs": [
        {
          "output_type": "stream",
          "name": "stdout",
          "text": [
            "{1, 2, 3}\n"
          ]
        }
      ]
    },
    {
      "cell_type": "markdown",
      "source": [
        "14. How does the “in” keyword work differently for lists and dictionaries?\n",
        "\n",
        "- The 'in' operator checks for the presence of a value in a list, it checks for the presence of a key in a dictionary."
      ],
      "metadata": {
        "id": "Eo3RsGUl6jGn"
      }
    },
    {
      "cell_type": "code",
      "source": [
        "#Example for use of \"in\" List\n",
        "my_list = [1, 2, 3, 4, 5]\n",
        "value = 3\n",
        "\n",
        "if value in my_list:\n",
        "    print(f\"{value} is in the list.\")\n",
        "else:\n",
        "    print(f\"{value} is not in the list.\")"
      ],
      "metadata": {
        "colab": {
          "base_uri": "https://localhost:8080/"
        },
        "id": "h_KGXRaJ7p5n",
        "outputId": "4a4e1a0d-3529-4aa4-9597-126e8c1cf8e5"
      },
      "execution_count": null,
      "outputs": [
        {
          "output_type": "stream",
          "name": "stdout",
          "text": [
            "3 is in the list.\n"
          ]
        }
      ]
    },
    {
      "cell_type": "code",
      "source": [
        "#Example for use of \"in\" Dictionary\n",
        "my_dict = {'a': 1, 'b': 2, 'c': 3}\n",
        "key = 'b'\n",
        "\n",
        "if key in my_dict:\n",
        "    print(f\"'{key}' is a key in the dictionary.\")\n",
        "else:\n",
        "    print(f\"'{key}' is not a key in the dictionary.\")"
      ],
      "metadata": {
        "colab": {
          "base_uri": "https://localhost:8080/"
        },
        "id": "lmu0QzZB8IHb",
        "outputId": "8ca52fba-dab8-4e1d-a5d8-0b294d8bffa4"
      },
      "execution_count": null,
      "outputs": [
        {
          "output_type": "stream",
          "name": "stdout",
          "text": [
            "'b' is a key in the dictionary.\n"
          ]
        }
      ]
    },
    {
      "cell_type": "markdown",
      "source": [
        "15. Can you modify the elements of a tuple? Explain why or why not?\n",
        "\n",
        "- In Python, tuples are immutable, meaning their elements cannot be modified after creation. This immutability ensures that once a tuple is defined, its contents remain constant throughout the program.The immutability of tuples is a fundamental design choice in Python, providing several benefits:\n",
        "\n",
        "    Hashability: Since tuples are immutable, they can be used as keys in dictionaries, whereas lists cannot.\n",
        "\n",
        "    Performance: Immutability allows for optimizations in memory usage and access speed.\n",
        "\n",
        "    Safety: It prevents accidental modifications, ensuring data integrity."
      ],
      "metadata": {
        "id": "LzxJI8fg8fAu"
      }
    },
    {
      "cell_type": "markdown",
      "source": [
        "16.  What is a nested dictionary, and give an example of its use case?\n",
        "\n",
        "-  A nested dictionary in Python refers to a dictionary where the value of one or more keys is another dictionary. This structure allows for the representation of complex data hierarchies, making it particularly useful for modeling real-world entities with multiple attributes."
      ],
      "metadata": {
        "id": "zJKMDC5i9lyi"
      }
    },
    {
      "cell_type": "code",
      "source": [
        "employees = {\n",
        "    'emp01': {'name': 'Rajat Sharma','age': 30},\n",
        "    'emp02': {'name': 'Brijesh Gupta', 'age': 25},\n",
        "    'emp03': {'name': 'Rajeev Thakur','age': 28}\n",
        "}\n",
        "\n",
        "brijesh_age = employees['emp02']['age']\n",
        "print(brijesh_age)"
      ],
      "metadata": {
        "colab": {
          "base_uri": "https://localhost:8080/"
        },
        "id": "leXt5VWe-xbo",
        "outputId": "687b6414-1ece-4262-91e6-e19a4b98b811"
      },
      "execution_count": null,
      "outputs": [
        {
          "output_type": "stream",
          "name": "stdout",
          "text": [
            "25\n"
          ]
        }
      ]
    },
    {
      "cell_type": "markdown",
      "source": [
        "17.  Describe the time complexity of accessing elements in a dictionary.\n",
        "\n",
        "- Python dictionaries offer efficient O(1) average-case time complexity for element access, making them suitable for scenarios where quick lookups are essential. When you access a value in a dictionary using a key, Python computes the hash of the key to determine its position in the underlying hash table. This allows for quick retrieval of the associated value."
      ],
      "metadata": {
        "id": "uKs7p_r-ApCi"
      }
    },
    {
      "cell_type": "markdown",
      "source": [
        "18. In what situations are lists preferred over dictionaries?\n",
        "\n",
        "- In Python, lists are preferred over dictionaries in the following situations:\n",
        "\n",
        "  1. Ordered Collection of Items\n",
        "  2. Allowing Duplicate Elements\n",
        "  3. Sequential Data\n",
        "  4. Index-Based Access\n",
        "  5. Homogeneous Data"
      ],
      "metadata": {
        "id": "H6O3i5TLBUEC"
      }
    },
    {
      "cell_type": "markdown",
      "source": [
        "19. Why are dictionaries considered unordered, and how does that affect data retrieval?\n",
        "\n",
        "- In Python, dictionaries are considered unordered collections because they do not maintain the order of elements as they are inserted.\n",
        "\n",
        "Impact on Data Retrieval:\n",
        "\n",
        "Despite their unordered nature, dictionaries offer efficient data retrieval:\n",
        "\n",
        "- Fast Lookups: Accessing a value by its key is a constant-time operation, O(1), due to the hash table's design.\n",
        "    pythonlikeyoumeanit.com\n",
        "\n",
        "- No Guaranteed Order: While retrieval by key is efficient, the order in which items are retrieved is not guaranteed. If the order of elements is important, you may need to use an OrderedDict or sort the dictionary's items explicitly.\n"
      ],
      "metadata": {
        "id": "5LQsa-UDDnnq"
      }
    },
    {
      "cell_type": "markdown",
      "source": [
        "20.  Explain the difference between a list and a dictionary in terms of data retrieval.\n",
        "\n",
        "- Differences in Data Retrieval:\n",
        "\n",
        "    i) **Order:** Lists preserve the order of elements, making them suitable for scenarios where the sequence matters. Dictionaries, being unordered, are ideal when you need to associate unique keys with specific values.\n",
        "\n",
        "    ii) **Access Method:** Lists require you to know the index of the element you want to access, which is efficient for sequential data. Dictionaries allow for direct access to values using keys, enabling faster lookups when the key is known."
      ],
      "metadata": {
        "id": "SKmQ0ug5EebG"
      }
    },
    {
      "cell_type": "markdown",
      "source": [
        "#**Practical** **Questions**"
      ],
      "metadata": {
        "id": "6OI-HdW7FTsx"
      }
    },
    {
      "cell_type": "markdown",
      "source": [
        "1. Write a code to create a string with your name and print it."
      ],
      "metadata": {
        "id": "DrcREmekFeYQ"
      }
    },
    {
      "cell_type": "code",
      "source": [
        "my_name= \"Neetigya Bajpai\"\n",
        "print(my_name)"
      ],
      "metadata": {
        "colab": {
          "base_uri": "https://localhost:8080/"
        },
        "id": "6NddRFlFFudN",
        "outputId": "719cdcd3-7725-48da-e57d-5c2454c6a430"
      },
      "execution_count": null,
      "outputs": [
        {
          "output_type": "stream",
          "name": "stdout",
          "text": [
            "Neetigya Bajpai\n"
          ]
        }
      ]
    },
    {
      "cell_type": "markdown",
      "source": [
        "2. Write a code to find the length of the string \"Hello World\"."
      ],
      "metadata": {
        "id": "emAdKYvyF3fM"
      }
    },
    {
      "cell_type": "code",
      "source": [
        "str1= \"Hello World\"\n",
        "len(str1)"
      ],
      "metadata": {
        "colab": {
          "base_uri": "https://localhost:8080/"
        },
        "id": "DdaiSP6xF7f6",
        "outputId": "c3b13cbd-e323-42f3-bfc3-2336683c646e"
      },
      "execution_count": null,
      "outputs": [
        {
          "output_type": "execute_result",
          "data": {
            "text/plain": [
              "11"
            ]
          },
          "metadata": {},
          "execution_count": 14
        }
      ]
    },
    {
      "cell_type": "markdown",
      "source": [
        "3.  Write a code to slice the first 3 characters from the string \"Python Programming\"."
      ],
      "metadata": {
        "id": "perIa3m1GHcf"
      }
    },
    {
      "cell_type": "code",
      "source": [
        "str2= \"Python Programming\"\n",
        "sliced_str2= str2[:3]\n",
        "print(sliced_str2)"
      ],
      "metadata": {
        "colab": {
          "base_uri": "https://localhost:8080/"
        },
        "id": "bidRijWqGQBk",
        "outputId": "a6b6e19c-8c72-48a2-b4fd-b001f35958fc"
      },
      "execution_count": null,
      "outputs": [
        {
          "output_type": "stream",
          "name": "stdout",
          "text": [
            "Pyt\n"
          ]
        }
      ]
    },
    {
      "cell_type": "markdown",
      "source": [
        "4.  Write a code to convert the string \"hello\" to uppercase."
      ],
      "metadata": {
        "id": "kNXiSESBG0Hd"
      }
    },
    {
      "cell_type": "code",
      "source": [
        "str3= \"hello\"\n",
        "str_upper= str3.upper()\n",
        "print(str_upper)"
      ],
      "metadata": {
        "colab": {
          "base_uri": "https://localhost:8080/"
        },
        "id": "Z3ZsF5mfBTWd",
        "outputId": "4a61ff08-acc8-4f43-baad-36a32524e677"
      },
      "execution_count": null,
      "outputs": [
        {
          "output_type": "stream",
          "name": "stdout",
          "text": [
            "HELLO\n"
          ]
        }
      ]
    },
    {
      "cell_type": "markdown",
      "source": [
        "5. Write a code to replace the word \"apple\" with \"orange\" in the string \"I like apple\"."
      ],
      "metadata": {
        "id": "CTYwTbNkHnmM"
      }
    },
    {
      "cell_type": "code",
      "source": [
        "str4= \"I like apple\"\n",
        "\n",
        "new_text= str4.replace(\"apple\", \"orange\")\n",
        "print(new_text)"
      ],
      "metadata": {
        "colab": {
          "base_uri": "https://localhost:8080/"
        },
        "id": "EjDqTpAnIIPz",
        "outputId": "803d266d-21f9-4bb2-bbeb-27b1d814e6e2"
      },
      "execution_count": null,
      "outputs": [
        {
          "output_type": "stream",
          "name": "stdout",
          "text": [
            "I like orange\n"
          ]
        }
      ]
    },
    {
      "cell_type": "markdown",
      "source": [
        "6. Write a code to create a list with numbers 1 to 5 and print it."
      ],
      "metadata": {
        "id": "sYAEL0UtM_o6"
      }
    },
    {
      "cell_type": "code",
      "source": [
        "my_list= [1,2,3,4,5]\n",
        "print(my_list)"
      ],
      "metadata": {
        "colab": {
          "base_uri": "https://localhost:8080/"
        },
        "id": "lTtWPuGhNBtd",
        "outputId": "1086909f-a155-4433-dc4e-a28158514639"
      },
      "execution_count": null,
      "outputs": [
        {
          "output_type": "stream",
          "name": "stdout",
          "text": [
            "[1, 2, 3, 4, 5]\n"
          ]
        }
      ]
    },
    {
      "cell_type": "markdown",
      "source": [
        "7. 7. Write a code to append the number 10 to the list [1, 2, 3, 4]."
      ],
      "metadata": {
        "id": "7G2x8_m7Nbkm"
      }
    },
    {
      "cell_type": "code",
      "source": [
        "list1= [1,2,3,4]\n",
        "list1.append(10)\n",
        "print(list1)"
      ],
      "metadata": {
        "colab": {
          "base_uri": "https://localhost:8080/"
        },
        "id": "iPIHdkMWNd7u",
        "outputId": "c0d0d8f3-c6db-44ca-fd33-e7527382bfa8"
      },
      "execution_count": null,
      "outputs": [
        {
          "output_type": "stream",
          "name": "stdout",
          "text": [
            "[1, 2, 3, 4, 10]\n"
          ]
        }
      ]
    },
    {
      "cell_type": "markdown",
      "source": [
        "8.  Write a code to remove the number 3 from the list [1, 2, 3, 4, 5]."
      ],
      "metadata": {
        "id": "PAbLws9HNwN1"
      }
    },
    {
      "cell_type": "code",
      "source": [
        "list2= [1,2,3,4,5]\n",
        "list2.remove(3)\n",
        "print(list2)"
      ],
      "metadata": {
        "colab": {
          "base_uri": "https://localhost:8080/"
        },
        "id": "J5-3LtAmNyMZ",
        "outputId": "f504f85a-bb96-4e86-f728-feb429318799"
      },
      "execution_count": null,
      "outputs": [
        {
          "output_type": "stream",
          "name": "stdout",
          "text": [
            "[1, 2, 4, 5]\n"
          ]
        }
      ]
    },
    {
      "cell_type": "markdown",
      "source": [
        "9.  Write a code to access the second element in the list ['a', 'b', 'c', 'd']."
      ],
      "metadata": {
        "id": "KZHZjJhDODbu"
      }
    },
    {
      "cell_type": "code",
      "source": [
        "list3= ['a','b','c','d']\n",
        "print(list3[1])"
      ],
      "metadata": {
        "colab": {
          "base_uri": "https://localhost:8080/"
        },
        "id": "31BGOF8oOGpR",
        "outputId": "9c0f0d23-26df-4669-f028-f4cf557a156c"
      },
      "execution_count": null,
      "outputs": [
        {
          "output_type": "stream",
          "name": "stdout",
          "text": [
            "b\n"
          ]
        }
      ]
    },
    {
      "cell_type": "markdown",
      "source": [
        "10.  Write a code to reverse the list [10, 20, 30, 40, 50]."
      ],
      "metadata": {
        "id": "QOtGwuzyPPkC"
      }
    },
    {
      "cell_type": "code",
      "source": [
        "list4= [10,20,30,40,50]\n",
        "reversed_list= list4[::-1]\n",
        "print(reversed_list)"
      ],
      "metadata": {
        "colab": {
          "base_uri": "https://localhost:8080/"
        },
        "id": "Vs2MO_TLPRS7",
        "outputId": "e4c6abd5-8b8f-41d6-b23d-ec859abaf086"
      },
      "execution_count": null,
      "outputs": [
        {
          "output_type": "stream",
          "name": "stdout",
          "text": [
            "[50, 40, 30, 20, 10]\n"
          ]
        }
      ]
    },
    {
      "cell_type": "markdown",
      "source": [
        "11. . Write a code to create a tuple with the elements 100, 200, 300 and print it.\n"
      ],
      "metadata": {
        "id": "Mu3uJ04OQl-5"
      }
    },
    {
      "cell_type": "code",
      "source": [
        "my_tup= (100,200,300)\n",
        "print(my_tup)"
      ],
      "metadata": {
        "colab": {
          "base_uri": "https://localhost:8080/"
        },
        "id": "7COh8-03QpdN",
        "outputId": "a61cdedf-f054-4e44-ccc9-9d4c4a6fe006"
      },
      "execution_count": null,
      "outputs": [
        {
          "output_type": "stream",
          "name": "stdout",
          "text": [
            "(100, 200, 300)\n"
          ]
        }
      ]
    },
    {
      "cell_type": "markdown",
      "source": [
        "12.  Write a code to access the second-to-last element of the tuple ('red', 'green', 'blue', 'yellow').\n"
      ],
      "metadata": {
        "id": "R_L-POGzQ6tq"
      }
    },
    {
      "cell_type": "code",
      "source": [
        "colors= ('red','green','blue','yellow'  )\n",
        "second_last= colors[-2]\n",
        "print(second_last)"
      ],
      "metadata": {
        "colab": {
          "base_uri": "https://localhost:8080/"
        },
        "id": "qG_nZoG-REWv",
        "outputId": "3d07e06f-e8aa-4ac0-9c1e-053847138ca9"
      },
      "execution_count": null,
      "outputs": [
        {
          "output_type": "stream",
          "name": "stdout",
          "text": [
            "blue\n"
          ]
        }
      ]
    },
    {
      "cell_type": "markdown",
      "source": [
        "13. . Write a code to find the minimum number in the tuple (10, 20, 5, 15)."
      ],
      "metadata": {
        "id": "lVAcCMPLSzb8"
      }
    },
    {
      "cell_type": "code",
      "source": [
        "tup1= (10, 20, 5, 15)\n",
        "minimum= min(tup1)\n",
        "print(minimum)"
      ],
      "metadata": {
        "colab": {
          "base_uri": "https://localhost:8080/"
        },
        "id": "7dvmIz4uS2De",
        "outputId": "b6d92e2a-01ba-4678-98ab-3032bebcf6a5"
      },
      "execution_count": null,
      "outputs": [
        {
          "output_type": "stream",
          "name": "stdout",
          "text": [
            "5\n"
          ]
        }
      ]
    },
    {
      "cell_type": "markdown",
      "source": [
        "14.  Write a code to find the index of the element \"cat\" in the tuple ('dog', 'cat', 'rabbit')."
      ],
      "metadata": {
        "id": "3Rq_RF9TTYBF"
      }
    },
    {
      "cell_type": "code",
      "source": [
        "pets= ('dog','cat','rabbit')\n",
        "pets_index= pets.index('cat')\n",
        "print(pets_index)"
      ],
      "metadata": {
        "colab": {
          "base_uri": "https://localhost:8080/"
        },
        "id": "lE13XgG7TcJP",
        "outputId": "06a5ad8b-fdd6-4b0c-a75a-982fa98b0065"
      },
      "execution_count": null,
      "outputs": [
        {
          "output_type": "stream",
          "name": "stdout",
          "text": [
            "1\n"
          ]
        }
      ]
    },
    {
      "cell_type": "markdown",
      "source": [
        "15. . Write a code to create a tuple containing three different fruits and check if \"kiwi\" is in it.\n",
        "\n"
      ],
      "metadata": {
        "id": "rkvfDQFKUIbg"
      }
    },
    {
      "cell_type": "code",
      "source": [
        "fruits= ('apple','banana','grapes')\n",
        "if fruits == 'kiwi':\n",
        "  print(\"'kiwi' is in the fruits\")\n",
        "else:\n",
        "  print(\"'kiwi' is not in the fruits\")"
      ],
      "metadata": {
        "colab": {
          "base_uri": "https://localhost:8080/"
        },
        "id": "CXAYtJzuULAF",
        "outputId": "9fbff94d-92f6-4ec1-d190-0f8c6a55ce1f"
      },
      "execution_count": null,
      "outputs": [
        {
          "output_type": "stream",
          "name": "stdout",
          "text": [
            "'kiwi' is not in the fruits\n"
          ]
        }
      ]
    },
    {
      "cell_type": "markdown",
      "source": [
        "16. Write a code to create a set with the elements 'a', 'b', 'c' and print it.\n",
        "\n"
      ],
      "metadata": {
        "id": "BFLfY3AKWSRy"
      }
    },
    {
      "cell_type": "code",
      "source": [
        "my_set= {'a','b','c'}\n",
        "print(my_set)"
      ],
      "metadata": {
        "colab": {
          "base_uri": "https://localhost:8080/"
        },
        "id": "lHwbKpcmWYc-",
        "outputId": "5e944bfb-13e0-4556-f8f9-5535e9e09526"
      },
      "execution_count": null,
      "outputs": [
        {
          "output_type": "stream",
          "name": "stdout",
          "text": [
            "{'b', 'a', 'c'}\n"
          ]
        }
      ]
    },
    {
      "cell_type": "markdown",
      "source": [
        "17. . Write a code to clear all elements from the set {1, 2, 3, 4, 5}.\n"
      ],
      "metadata": {
        "id": "KXO74fnGWvSK"
      }
    },
    {
      "cell_type": "code",
      "source": [
        "num= {1,2,3,4,5}\n",
        "num.clear()\n",
        "print(num)"
      ],
      "metadata": {
        "colab": {
          "base_uri": "https://localhost:8080/"
        },
        "id": "hF978nHyW229",
        "outputId": "f8fbc6cb-f1ab-47de-b3a3-b7047f244727"
      },
      "execution_count": null,
      "outputs": [
        {
          "output_type": "stream",
          "name": "stdout",
          "text": [
            "set()\n"
          ]
        }
      ]
    },
    {
      "cell_type": "markdown",
      "source": [],
      "metadata": {
        "id": "H6S7Mi_mRs-O"
      }
    },
    {
      "cell_type": "markdown",
      "source": [],
      "metadata": {
        "id": "8h65TlVr3Amw"
      }
    },
    {
      "cell_type": "markdown",
      "source": [
        "18.  Write a code to remove the element 4 from the set {1, 2, 3, 4}.\n"
      ],
      "metadata": {
        "id": "0kZiW_4oXF9U"
      }
    },
    {
      "cell_type": "code",
      "source": [
        "set1= {1,2,3,4}\n",
        "set1.remove(4)\n",
        "print(set1)"
      ],
      "metadata": {
        "colab": {
          "base_uri": "https://localhost:8080/"
        },
        "id": "8Yrd8_SIXHrQ",
        "outputId": "4884750d-5ecd-4a64-8604-173b2d53f418"
      },
      "execution_count": null,
      "outputs": [
        {
          "output_type": "stream",
          "name": "stdout",
          "text": [
            "{1, 2, 3}\n"
          ]
        }
      ]
    },
    {
      "cell_type": "markdown",
      "source": [
        "19.  Write a code to find the union of two sets {1, 2, 3} and {3, 4, 5}."
      ],
      "metadata": {
        "id": "0k0S1LzzXYsv"
      }
    },
    {
      "cell_type": "code",
      "source": [
        "setA= {1,2,3}\n",
        "setB= {3,4,5}\n",
        "union_set= setA.union(setB)\n",
        "print(union_set)"
      ],
      "metadata": {
        "colab": {
          "base_uri": "https://localhost:8080/"
        },
        "id": "RPNoBZRQXkTZ",
        "outputId": "1116ea13-6929-444e-9bfb-591ee09dde25"
      },
      "execution_count": null,
      "outputs": [
        {
          "output_type": "stream",
          "name": "stdout",
          "text": [
            "{1, 2, 3, 4, 5}\n"
          ]
        }
      ]
    },
    {
      "cell_type": "markdown",
      "source": [
        "20. Write a code to find the intersection of two sets {1, 2, 3} and {2, 3, 4}."
      ],
      "metadata": {
        "id": "VmdmqUGGYLtk"
      }
    },
    {
      "cell_type": "code",
      "source": [
        "set3= {1,2,3}\n",
        "set4= {2,3,4}\n",
        "intersection_set= set3.intersection(set4)\n",
        "print(intersection_set)"
      ],
      "metadata": {
        "colab": {
          "base_uri": "https://localhost:8080/"
        },
        "id": "iNAi22sTYQs2",
        "outputId": "385fa6e4-fb64-4256-fed6-3e7170423d01"
      },
      "execution_count": null,
      "outputs": [
        {
          "output_type": "stream",
          "name": "stdout",
          "text": [
            "{2, 3}\n"
          ]
        }
      ]
    },
    {
      "cell_type": "markdown",
      "source": [
        "21. . Write a code to create a dictionary with the keys \"name\", \"age\", and \"city\", and print it.\n",
        "\n"
      ],
      "metadata": {
        "id": "VKg9xyIZYorl"
      }
    },
    {
      "cell_type": "code",
      "source": [
        "my_dict= {\"name\": \"Neetigya Bajpai\", \"age\":24, \"city\": \"Kanpur\"}\n",
        "print(my_dict.keys())"
      ],
      "metadata": {
        "id": "3a4WeWDhY578",
        "colab": {
          "base_uri": "https://localhost:8080/"
        },
        "outputId": "b22ed85e-2522-4a20-e628-f0eb69dc7d44"
      },
      "execution_count": 1,
      "outputs": [
        {
          "output_type": "stream",
          "name": "stdout",
          "text": [
            "dict_keys(['name', 'age', 'city'])\n"
          ]
        }
      ]
    },
    {
      "cell_type": "markdown",
      "source": [
        "22.  Write a code to add a new key-value pair \"country\": \"USA\" to the dictionary {'name': 'John', 'age': 25}."
      ],
      "metadata": {
        "id": "IND872Me7xCD"
      }
    },
    {
      "cell_type": "code",
      "source": [
        "prsnl_info= {'name': 'John', 'age': 25}\n",
        "prsnl_info[\"country\"]= \"USA\"\n",
        "print(prsnl_info)"
      ],
      "metadata": {
        "colab": {
          "base_uri": "https://localhost:8080/"
        },
        "id": "lLZhB_Ro72Bm",
        "outputId": "94fef568-85e2-4b31-e0b8-f6233d5394a7"
      },
      "execution_count": 6,
      "outputs": [
        {
          "output_type": "stream",
          "name": "stdout",
          "text": [
            "{'name': 'John', 'age': 25, 'country': 'USA'}\n"
          ]
        }
      ]
    },
    {
      "cell_type": "markdown",
      "source": [
        "23. Write a code to access the value associated with the key \"name\" in the dictionary {'name': 'Alice', 'age': 30}."
      ],
      "metadata": {
        "id": "Z7o5e04z9EBP"
      }
    },
    {
      "cell_type": "code",
      "source": [
        "data= {'name': 'Alice', 'age': 30}\n",
        "key_value= data['name']\n",
        "print(key_value)"
      ],
      "metadata": {
        "colab": {
          "base_uri": "https://localhost:8080/"
        },
        "id": "eRLoxYn29nP5",
        "outputId": "ac4df7d8-4963-4a61-8c3d-b8c6b65975de"
      },
      "execution_count": 7,
      "outputs": [
        {
          "output_type": "stream",
          "name": "stdout",
          "text": [
            "Alice\n"
          ]
        }
      ]
    },
    {
      "cell_type": "markdown",
      "source": [
        "24.  Write a code to remove the key \"age\" from the dictionary {'name': 'Bob', 'age': 22, 'city': 'New York'}.\n"
      ],
      "metadata": {
        "id": "Z9FYRwuw-KKT"
      }
    },
    {
      "cell_type": "code",
      "source": [
        "details= {'name': 'Bob', 'age': 22, 'city': 'New York'}\n",
        "details.pop('age')\n",
        "print(details)"
      ],
      "metadata": {
        "colab": {
          "base_uri": "https://localhost:8080/"
        },
        "id": "oRJSUh_u9equ",
        "outputId": "2d1b2358-a809-466b-dd72-1d4ed5881c62"
      },
      "execution_count": 9,
      "outputs": [
        {
          "output_type": "stream",
          "name": "stdout",
          "text": [
            "{'name': 'Bob', 'city': 'New York'}\n"
          ]
        }
      ]
    },
    {
      "cell_type": "markdown",
      "source": [
        "25. Write a code to check if the key \"city\" exists in the dictionary {'name': 'Alice', 'city': 'Paris'}.\n"
      ],
      "metadata": {
        "id": "3SfVin4x_Z0D"
      }
    },
    {
      "cell_type": "code",
      "source": [
        "data1= {'name': 'Alice', 'city': 'Paris'}\n",
        "\n",
        "if \"city\" in data1:\n",
        "  print(\"The key 'city' exists in the dictionary\")\n",
        "else:\n",
        "  print(\"The key 'city' does not exist in the dictionary\")"
      ],
      "metadata": {
        "colab": {
          "base_uri": "https://localhost:8080/"
        },
        "id": "X3kT-UHF9Gr5",
        "outputId": "0a4fcfc3-6377-4e23-e09d-05b77e2be741"
      },
      "execution_count": 12,
      "outputs": [
        {
          "output_type": "stream",
          "name": "stdout",
          "text": [
            "The key 'city' exists in the dictionary\n"
          ]
        }
      ]
    },
    {
      "cell_type": "markdown",
      "source": [
        "26.  Write a code to create a list, a tuple, and a dictionary, and print them all.\n"
      ],
      "metadata": {
        "id": "nY54OT_QAkYp"
      }
    },
    {
      "cell_type": "code",
      "source": [
        "# Creating a list\n",
        "my_list = [1, 2, 3, 4, 5]\n",
        "\n",
        "# Creating a tuple\n",
        "my_tuple = (10, 20, 30, 40, 50)\n",
        "\n",
        "# Creating a dictionary\n",
        "my_dict = {'name': 'Alice', 'age': 30, 'city': 'Paris'}\n",
        "\n",
        "print(\"List:\", my_list)\n",
        "print(\"Tuple:\", my_tuple)\n",
        "print(\"Dictionary:\", my_dict)"
      ],
      "metadata": {
        "colab": {
          "base_uri": "https://localhost:8080/"
        },
        "id": "o7ev3BuIA2ok",
        "outputId": "39f6bade-6b0d-4d14-e1fd-4c0bfb6f26d3"
      },
      "execution_count": 13,
      "outputs": [
        {
          "output_type": "stream",
          "name": "stdout",
          "text": [
            "List: [1, 2, 3, 4, 5]\n",
            "Tuple: (10, 20, 30, 40, 50)\n",
            "Dictionary: {'name': 'Alice', 'age': 30, 'city': 'Paris'}\n"
          ]
        }
      ]
    },
    {
      "cell_type": "markdown",
      "source": [
        "27.  Write a code to create a list of 5 random numbers between 1 and 100, sort it in ascending order, and print the\n",
        "result.(replaced)."
      ],
      "metadata": {
        "id": "wSwbzImyBI5Y"
      }
    },
    {
      "cell_type": "code",
      "source": [
        "import random\n",
        "\n",
        "# Generate a list of 5 random numbers between 1 and 100\n",
        "random_numbers = [random.randint(1, 100) for _ in range(5)]\n",
        "\n",
        "random_numbers.sort()\n",
        "\n",
        "print(random_numbers)"
      ],
      "metadata": {
        "colab": {
          "base_uri": "https://localhost:8080/"
        },
        "id": "Hpe9Y49uBm4S",
        "outputId": "7f9872d7-02d3-4ee3-fed7-63e6ed97e1a3"
      },
      "execution_count": 14,
      "outputs": [
        {
          "output_type": "stream",
          "name": "stdout",
          "text": [
            "[13, 14, 54, 87, 92]\n"
          ]
        }
      ]
    },
    {
      "cell_type": "markdown",
      "source": [
        " 28. Write a code to create a list with strings and print the element at the third index."
      ],
      "metadata": {
        "id": "4YPnua2nB9g8"
      }
    },
    {
      "cell_type": "code",
      "source": [
        "my_list = ['apple', 'Abhishek', 'cherry', 'Mohan']\n",
        "\n",
        "print(my_list[3])"
      ],
      "metadata": {
        "colab": {
          "base_uri": "https://localhost:8080/"
        },
        "id": "Fj8BErNhCCV-",
        "outputId": "794bf702-b1ec-4a93-a2b5-5941f4562f1f"
      },
      "execution_count": 15,
      "outputs": [
        {
          "output_type": "stream",
          "name": "stdout",
          "text": [
            "Mohan\n"
          ]
        }
      ]
    },
    {
      "cell_type": "markdown",
      "source": [
        "29.  Write a code to combine two dictionaries into one and print the result.\n"
      ],
      "metadata": {
        "id": "OkYCnKNWCbvH"
      }
    },
    {
      "cell_type": "code",
      "source": [
        "dict1 = {'a': 1, 'b': 2}\n",
        "dict2 = {'b': 3, 'c': 4}\n",
        "\n",
        "# Combine dict1 and dict2\n",
        "combined_dict = dict1 | dict2\n",
        "print(combined_dict)"
      ],
      "metadata": {
        "colab": {
          "base_uri": "https://localhost:8080/"
        },
        "id": "NtoXrgriCdwL",
        "outputId": "d312e928-47bd-43fe-bc37-430f335c9266"
      },
      "execution_count": 16,
      "outputs": [
        {
          "output_type": "stream",
          "name": "stdout",
          "text": [
            "{'a': 1, 'b': 3, 'c': 4}\n"
          ]
        }
      ]
    },
    {
      "cell_type": "markdown",
      "source": [
        "30. Write a code to convert a list of strings into a set."
      ],
      "metadata": {
        "id": "SJVwL3HWC93V"
      }
    },
    {
      "cell_type": "code",
      "source": [
        "str_list= ['ramesh', 'suresh', 'apple','guava','berry','guava']\n",
        "# Convert list to set\n",
        "str_set = set(str_list)\n",
        "\n",
        "print(str_set)\n"
      ],
      "metadata": {
        "colab": {
          "base_uri": "https://localhost:8080/"
        },
        "id": "dl7alyzj7zfs",
        "outputId": "082f2269-95ef-45eb-b795-e96a652a8466"
      },
      "execution_count": 17,
      "outputs": [
        {
          "output_type": "stream",
          "name": "stdout",
          "text": [
            "{'apple', 'berry', 'ramesh', 'guava', 'suresh'}\n"
          ]
        }
      ]
    },
    {
      "cell_type": "code",
      "source": [],
      "metadata": {
        "id": "Wc7OZXdV_zDI"
      },
      "execution_count": null,
      "outputs": []
    },
    {
      "cell_type": "code",
      "source": [],
      "metadata": {
        "id": "elsEDaIMmrEV"
      },
      "execution_count": null,
      "outputs": []
    },
    {
      "cell_type": "code",
      "execution_count": null,
      "metadata": {
        "id": "Xfxwq4R5h5Yw"
      },
      "outputs": [],
      "source": []
    }
  ]
}